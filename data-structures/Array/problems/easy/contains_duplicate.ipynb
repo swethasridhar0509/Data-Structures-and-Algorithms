{
 "cells": [
  {
   "cell_type": "markdown",
   "metadata": {},
   "source": [
    "Given an integer array `nums`, return `true` if any value appears more than once in the array, otherwise return `false`.\n",
    "\n",
    "Example 1:\n",
    "```python\n",
    "Input: nums = [1, 2, 3, 3]\n",
    "Output: true\n",
    "```\n",
    "Example 2:\n",
    "```python\n",
    "Input: nums = [1, 2, 3, 4]\n",
    "Output: false\n",
    "```\n"
   ]
  },
  {
   "cell_type": "code",
   "execution_count": null,
   "metadata": {},
   "outputs": [
    {
     "name": "stdout",
     "output_type": "stream",
     "text": [
      "True\n"
     ]
    }
   ],
   "source": [
    "# Brute - Trying every element against every other element\n",
    "\n",
    "from typing import List\n",
    "\n",
    "def containsDuplicate(nums: List[int]) -> bool:\n",
    "\n",
    "        for i in range(len(nums)):\n",
    "            for j in range(i + 1, len(nums)):\n",
    "                if nums[i] ==nums[j]:\n",
    "                    return True\n",
    "        return False\n",
    "\n",
    "nums = [1, 2, 3, 3]\n",
    "print(containsDuplicate(nums))\n",
    "\n",
    "'''\n",
    "Complexity Analysis:\n",
    "1. Space complexity - O(1)\n",
    "2. Time complexity - O(N ^ 2) for every ith element, the inner loop runs (n - i - 1) times.\n",
    "'''"
   ]
  },
  {
   "cell_type": "code",
   "execution_count": null,
   "metadata": {},
   "outputs": [
    {
     "name": "stdout",
     "output_type": "stream",
     "text": [
      "False\n"
     ]
    }
   ],
   "source": [
    "# Optimal solution - using hash set\n",
    "\n",
    "def containsDuplicate(nums: List[int]) -> bool:\n",
    "        seen = set()\n",
    "        for num in nums:\n",
    "            if num in seen:\n",
    "                return True\n",
    "            seen.add(num)\n",
    "\n",
    "        return False\n",
    "\n",
    "nums = [1, 2, 3, 4]\n",
    "print(containsDuplicate(nums))\n",
    "\n",
    "'''\n",
    "Complexity Analysis:\n",
    "1. Space complexity - O(N), In the worst case, set of length n is required.\n",
    "2. Time complexity - O(N) Single loop, O(1) in average for membership testing in set.\n",
    "3. In case of hash collision, O(N) for membership testing in set.\n",
    "'''"
   ]
  },
  {
   "cell_type": "code",
   "execution_count": null,
   "metadata": {},
   "outputs": [
    {
     "name": "stdout",
     "output_type": "stream",
     "text": [
      "True\n"
     ]
    }
   ],
   "source": [
    "# Trade off btw space and time\n",
    "\n",
    "def containsDuplicate(nums: List[int]) -> bool:\n",
    "        nums.sort()\n",
    "        for idx in range(0, len(nums) - 1):\n",
    "            if nums[idx] == nums[idx + 1]:\n",
    "                  return True\n",
    "        return False\n",
    "\n",
    "nums = [1, 2, 3, 3]\n",
    "print(containsDuplicate(nums))\n",
    "\n",
    "'''\n",
    "Complexity Analysis:\n",
    "1. Space complexity - O(1)\n",
    "2. Time complexity - O(n log n) sorting and single loop.\n",
    "'''\n",
    "\n"
   ]
  }
 ],
 "metadata": {
  "kernelspec": {
   "display_name": "Python 3",
   "language": "python",
   "name": "python3"
  },
  "language_info": {
   "codemirror_mode": {
    "name": "ipython",
    "version": 3
   },
   "file_extension": ".py",
   "mimetype": "text/x-python",
   "name": "python",
   "nbconvert_exporter": "python",
   "pygments_lexer": "ipython3",
   "version": "3.11.9"
  }
 },
 "nbformat": 4,
 "nbformat_minor": 2
}
