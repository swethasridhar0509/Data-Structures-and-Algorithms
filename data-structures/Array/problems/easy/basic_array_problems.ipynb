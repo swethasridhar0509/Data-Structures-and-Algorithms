{
 "cells": [
  {
   "cell_type": "markdown",
   "metadata": {},
   "source": [
    "Given an array arr[], the task is to print every alternate element of the array starting from the first element.\n",
    "\n",
    "Examples:\n",
    "```python\n",
    "Input: arr[] = [10, 20, 30, 40, 50]\n",
    "Output: 10 30 50\n",
    "\n",
    "'''\n",
    "Explanation: Print the first element (10), skip the second element (20), print the third element (30), skip the fourth element(40) and print the fifth element(50).\n",
    "'''\n",
    "\n",
    "Input: arr[] = [-5, 1, 4, 2, 12]\n",
    "Output: -5 4 12\n",
    "```"
   ]
  },
  {
   "cell_type": "code",
   "execution_count": null,
   "metadata": {},
   "outputs": [
    {
     "name": "stdout",
     "output_type": "stream",
     "text": [
      "[10, 30, 50]\n"
     ]
    }
   ],
   "source": [
    "# Iterative Approach\n",
    "\n",
    "def getAlternates(arr):\n",
    "    res = []\n",
    "    for i in range(0, len(arr), 2):\n",
    "        res.append(arr[i])\n",
    "    return res\n",
    "\n",
    "nums = [10, 20, 30, 40, 50]\n",
    "print(getAlternates(nums))\n",
    "\n",
    "'''\n",
    "time complexity - O(N) single loop\n",
    "space complexity - O(N) for storing the res \n",
    "'''"
   ]
  },
  {
   "cell_type": "markdown",
   "metadata": {},
   "source": [
    "### Check if an Array is Sorted\n",
    "\n",
    "Given an array of size `n`, the task is to check if it is sorted in ascending order or not. Equal values are allowed in an array and two consecutive equal values are considered sorted.\n",
    "\n",
    "Examples:\n",
    "```python\n",
    "Input: arr[] = [20, 21, 45, 89, 89, 90]\n",
    "Output: Yes\n",
    "\n",
    "Input: arr[] = [20, 20, 45, 89, 89, 90]\n",
    "Output: Yes\n",
    "\n",
    "Input: arr[] = [20, 20, 78, 98, 99, 97]\n",
    "Output: No\n",
    "```"
   ]
  }
 ],
 "metadata": {
  "kernelspec": {
   "display_name": "Python 3",
   "language": "python",
   "name": "python3"
  },
  "language_info": {
   "codemirror_mode": {
    "name": "ipython",
    "version": 3
   },
   "file_extension": ".py",
   "mimetype": "text/x-python",
   "name": "python",
   "nbconvert_exporter": "python",
   "pygments_lexer": "ipython3",
   "version": "3.11.9"
  }
 },
 "nbformat": 4,
 "nbformat_minor": 2
}
